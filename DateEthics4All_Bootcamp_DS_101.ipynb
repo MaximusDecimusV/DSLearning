{
  "nbformat": 4,
  "nbformat_minor": 0,
  "metadata": {
    "celltoolbar": "Slideshow",
    "colab": {
      "name": "DateEthics4All - Bootcamp - DS 101",
      "provenance": [],
      "collapsed_sections": [],
      "include_colab_link": true
    },
    "kernelspec": {
      "display_name": "Python 3",
      "language": "python",
      "name": "python3"
    },
    "language_info": {
      "codemirror_mode": {
        "name": "ipython",
        "version": 3
      },
      "file_extension": ".py",
      "mimetype": "text/x-python",
      "name": "python",
      "nbconvert_exporter": "python",
      "pygments_lexer": "ipython3",
      "version": "3.7.2"
    }
  },
  "cells": [
    {
      "cell_type": "markdown",
      "metadata": {
        "id": "view-in-github",
        "colab_type": "text"
      },
      "source": [
        "<a href=\"https://colab.research.google.com/github/MaximusDecimusV/DSLearning/blob/master/DateEthics4All_Bootcamp_DS_101.ipynb\" target=\"_parent\"><img src=\"https://colab.research.google.com/assets/colab-badge.svg\" alt=\"Open In Colab\"/></a>"
      ]
    },
    {
      "cell_type": "markdown",
      "metadata": {
        "colab_type": "text",
        "id": "fagGHN5dTyp7"
      },
      "source": [
        "# Welcome to Bootcamp Day and Data Science 101\n",
        "\n",
        "This is a 101 level class, so it is meant to be introductory. \n",
        "\n",
        "I have intentionally kept this notebook at a fairly high level to encourage participation from folks of all backgrounds. If you want to learn more and continue exploring on your own, I will share resources to learn more about the functions and libraries I use throughout the class and I will have them linked in **Notes** under each section.\n",
        "\n",
        "At the end I will also share links to free textbooks and more online resources to continue your learning journey.\n",
        "\n",
        "## Some Housekeeping:\n",
        "\n",
        "* Please mute yourself when you are not talking\n",
        "* I will share the link to this Notebook on Google Colab for you to go over these steps on your own, so taking notes are completely optional\n",
        "* The slides may seem verbose, but they are intended to be standalone so that you can refer back to this whenever you need to\n",
        "* Please save a copy of this file in your own Google Drive before you start making changes\n",
        "* Please ask questions, the class is meant to be interactive\n",
        "\n"
      ]
    },
    {
      "cell_type": "markdown",
      "metadata": {
        "colab_type": "text",
        "id": "PIv4gi12VciD"
      },
      "source": [
        "## Introduction\n",
        "\n",
        "[Wikipedia](https://en.wikipedia.org/wiki/Data_science) defines Data science as an inter-disciplinary field that uses scientific methods, processes, algorithms and systems to extract knowledge and insights from many structural and unstructured data. It uses techniques and theories drawn from many fields within mathematics, statistics, computer science, business and information science.\n",
        "\n",
        "Hal Varian, Chief Economist at Google and Professor of Information Sciences, University of California, Berkeley, said this about Data Science:\n",
        "\n",
        "“The ability to take data — to be able to understand it, to process it, to extract value from it, to visualize it, to communicate it — that’s going to be a hugely important skill in the next decades.”"
      ]
    },
    {
      "cell_type": "markdown",
      "metadata": {
        "colab_type": "text",
        "id": "u2S7v_d-jZTT"
      },
      "source": [
        "## Stages of a Typical Data Science Project\n",
        "\n",
        "### 1. Problem Definition\n",
        "\n",
        "A typical Data Science project starts with a problem definition. The tools you will use will depend on the problem you are trying to solve. Tailor the solution to the problem. "
      ]
    },
    {
      "cell_type": "markdown",
      "metadata": {
        "colab_type": "text",
        "id": "CiinFfoIT9XK"
      },
      "source": [
        "### 2. Data Acquisition\n",
        "\n",
        "Once you have identified a problem, you need to get the data you need to solve the problem. In the industry, data is usually stored in a relational database system like Oracle or MySQL or in a Distributed File System like Hadoop/Spark. The language used to extract the data from these sources is almost always SQL or some variant of it (e.g. MySQL, T-SQL, Hive, Presto, SparkSQL, etc.).\n",
        "\n",
        "[W3Schools](https://www.w3schools.com/sql/) has a wonderful SQL Tutorial that will get you up to speed on the SQL basics.\n",
        "\n",
        "Since we are going to be working on a public hackathon, the data sources we rely on are public data sources. Google has released a [Google Dataset Search](https://datasetsearch.research.google.com/) tool, that helps us look for publicly available datasets to solve problems of interest. "
      ]
    },
    {
      "cell_type": "markdown",
      "metadata": {
        "colab_type": "text",
        "id": "FQEfE1DuUBz3"
      },
      "source": [
        "### 3. Exploratory Data Analysis and Findings\n",
        "\n",
        "Once you have the data you need, the next step is to analyze and visualize the data to uncover hidden patterns and figure out which parts of data you will use for the next steps."
      ]
    },
    {
      "cell_type": "markdown",
      "metadata": {
        "colab_type": "text",
        "id": "VMIZQx8OUGHg"
      },
      "source": [
        "### 4. Model Training, Validation and Testing\n",
        "\n",
        "This step is only needed if the right solution for your problem is a machine learning model. You will use the insights you uncovered in the data analysis to train and test a robust machine learning model.\n",
        "\n",
        "There are many free, online, learning resources to learn the basics of Machine Learning. \n",
        "\n",
        "At the end of the class, I will share resources for learning ML along with free textbooks and online courses to understand the more theoretical parts of Machine Learning and Data Science like Linear Algebra, Probability & Statistics, and Algorithms.\n",
        "\n"
      ]
    },
    {
      "cell_type": "markdown",
      "metadata": {
        "colab_type": "text",
        "id": "97qXRVCiUMAv"
      },
      "source": [
        "### 5. Model Deployment\n",
        "\n",
        "Once the model is built, the model needs to be deployed in a live environment to continue producing predictions. This requires knowledge in Software Engineering, and Live Operations, it's evolving into a field of its own called ML Ops (Machine Learning Operations)."
      ]
    },
    {
      "cell_type": "markdown",
      "metadata": {
        "colab_type": "text",
        "id": "VYGc9GHtUO6N"
      },
      "source": [
        "### 6. Documentation\n",
        "\n",
        "Your job is not done when the technical work is done. It is important to document the steps you took and the learnings you gained, so that the next time someone needs to build solutions for a similar problem, they can refer to your documentation."
      ]
    },
    {
      "cell_type": "markdown",
      "metadata": {
        "colab_type": "text",
        "id": "85uvY3lmZPol"
      },
      "source": [
        "## An Example Problem to Illustrate the various Steps\n",
        "\n",
        "Let's say you're a wine enthusiast and you find that the current app marketplace is seriously lacking in the ability to tell you the quality of a wine you're interested in given its characteristics like acidity, alcohol content, density, etc. \n",
        "\n",
        "You would first clearly define the problem you're trying to solve.\n",
        "\n",
        "### 1. Problem Definition\n",
        "\n",
        "**To build a service to predict the quality of wines given various characteristics.**"
      ]
    },
    {
      "cell_type": "markdown",
      "metadata": {
        "colab_type": "text",
        "id": "qxDam2u_Z2G5"
      },
      "source": [
        "### 2. Data Acquisition\n",
        "\n",
        "Now that you've defined your problem, you need to find datasets containing wine quality scores and various physical and chemical characteristics of wine. Google is your friend.\n",
        "\n",
        "1. Go to https://datasetsearch.research.google.com/\n",
        "2. Search for a topic of interest,  as expected dataset searches related to COVID are trending, but eye on the prize -- we want a dataset containing wine quality scores. So search \"Wine Quality\"\n",
        "3. Aha! There are a ton of datasets containing wine quality. Let's examine them and download the dataset.\n",
        "\n",
        "**Notes:**\n",
        "* [Kaggle](https://www.kaggle.com/datasets) is a good source for downloading datasets, but it requires sign up. Kaggle also has publicly available notebooks that contain the solution of others. Please remember to cite them when you use someone else's work.\n",
        "* Other great sources are [UCI Machine Learning Repository](https://archive.ics.uci.edu/ml/index.php), [AWS Open Data Registry](https://registry.opendata.aws/), [CMU Library](https://guides.library.cmu.edu/machine-learning/datasets)."
      ]
    },
    {
      "cell_type": "markdown",
      "metadata": {
        "colab_type": "text",
        "id": "Fe1ZF9BUW_kH"
      },
      "source": [
        "Now that the dataset is downloaded, we have to import them to Google Colab. Remember - Colab is running in the cloud, so we have to upload the dataset. Let's do that next."
      ]
    },
    {
      "cell_type": "code",
      "metadata": {
        "colab_type": "code",
        "id": "Pk05WV6LaOIu",
        "colab": {
          "resources": {
            "http://localhost:8080/nbextensions/google.colab/files.js": {
              "data": "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",
              "ok": true,
              "headers": [
                [
                  "content-type",
                  "application/javascript"
                ]
              ],
              "status": 200,
              "status_text": ""
            }
          },
          "base_uri": "https://localhost:8080/",
          "height": 72
        },
        "outputId": "bdb73170-9aa8-4932-e602-a844a3272ba0"
      },
      "source": [
        "#Uploading the file from local to a place where Colab can read\n",
        "from google.colab import files \n",
        "uploaded = files.upload()"
      ],
      "execution_count": 151,
      "outputs": [
        {
          "output_type": "display_data",
          "data": {
            "text/html": [
              "\n",
              "     <input type=\"file\" id=\"files-5199d17b-3f7e-4a65-a3a0-c4105082b47b\" name=\"files[]\" multiple disabled\n",
              "        style=\"border:none\" />\n",
              "     <output id=\"result-5199d17b-3f7e-4a65-a3a0-c4105082b47b\">\n",
              "      Upload widget is only available when the cell has been executed in the\n",
              "      current browser session. Please rerun this cell to enable.\n",
              "      </output>\n",
              "      <script src=\"/nbextensions/google.colab/files.js\"></script> "
            ],
            "text/plain": [
              "<IPython.core.display.HTML object>"
            ]
          },
          "metadata": {
            "tags": []
          }
        },
        {
          "output_type": "stream",
          "text": [
            "Saving winequality-white.csv to winequality-white (3).csv\n"
          ],
          "name": "stdout"
        }
      ]
    },
    {
      "cell_type": "markdown",
      "metadata": {
        "colab_type": "text",
        "id": "HoyZWGgJdOgj"
      },
      "source": [
        "**Note:** Generally from xx import yy is a way for us to tell python go import a function yy from an existing library xx. Colab manages all the libraries for us, but if you were setting things up on your own, you have to first install the required libraries."
      ]
    },
    {
      "cell_type": "markdown",
      "metadata": {
        "colab_type": "text",
        "id": "c_NTiq9-W_kI"
      },
      "source": [
        "With the file uploaded, we have to tell python to read the file we just uploaded."
      ]
    },
    {
      "cell_type": "code",
      "metadata": {
        "colab_type": "code",
        "id": "Ojx3DLl1cWX8",
        "colab": {
          "base_uri": "https://localhost:8080/",
          "height": 204
        },
        "outputId": "4ba2c479-1bdd-47dc-edfd-3736123d57ba"
      },
      "source": [
        "#Importing libraries\n",
        "import io\n",
        "import pandas as pd \n",
        "\n",
        "df = pd.read_csv(io.BytesIO(uploaded['winequality-white.csv']),sep = \";\") #Reading the dataset\n",
        "df.head() #Looking at a sample of the data"
      ],
      "execution_count": 152,
      "outputs": [
        {
          "output_type": "execute_result",
          "data": {
            "text/html": [
              "<div>\n",
              "<style scoped>\n",
              "    .dataframe tbody tr th:only-of-type {\n",
              "        vertical-align: middle;\n",
              "    }\n",
              "\n",
              "    .dataframe tbody tr th {\n",
              "        vertical-align: top;\n",
              "    }\n",
              "\n",
              "    .dataframe thead th {\n",
              "        text-align: right;\n",
              "    }\n",
              "</style>\n",
              "<table border=\"1\" class=\"dataframe\">\n",
              "  <thead>\n",
              "    <tr style=\"text-align: right;\">\n",
              "      <th></th>\n",
              "      <th>fixed acidity</th>\n",
              "      <th>volatile acidity</th>\n",
              "      <th>citric acid</th>\n",
              "      <th>residual sugar</th>\n",
              "      <th>chlorides</th>\n",
              "      <th>free sulfur dioxide</th>\n",
              "      <th>total sulfur dioxide</th>\n",
              "      <th>density</th>\n",
              "      <th>pH</th>\n",
              "      <th>sulphates</th>\n",
              "      <th>alcohol</th>\n",
              "      <th>quality</th>\n",
              "    </tr>\n",
              "  </thead>\n",
              "  <tbody>\n",
              "    <tr>\n",
              "      <th>0</th>\n",
              "      <td>7.0</td>\n",
              "      <td>0.27</td>\n",
              "      <td>0.36</td>\n",
              "      <td>20.7</td>\n",
              "      <td>0.045</td>\n",
              "      <td>45.0</td>\n",
              "      <td>170.0</td>\n",
              "      <td>1.0010</td>\n",
              "      <td>3.00</td>\n",
              "      <td>0.45</td>\n",
              "      <td>8.8</td>\n",
              "      <td>6</td>\n",
              "    </tr>\n",
              "    <tr>\n",
              "      <th>1</th>\n",
              "      <td>6.3</td>\n",
              "      <td>0.30</td>\n",
              "      <td>0.34</td>\n",
              "      <td>1.6</td>\n",
              "      <td>0.049</td>\n",
              "      <td>14.0</td>\n",
              "      <td>132.0</td>\n",
              "      <td>0.9940</td>\n",
              "      <td>3.30</td>\n",
              "      <td>0.49</td>\n",
              "      <td>9.5</td>\n",
              "      <td>6</td>\n",
              "    </tr>\n",
              "    <tr>\n",
              "      <th>2</th>\n",
              "      <td>8.1</td>\n",
              "      <td>0.28</td>\n",
              "      <td>0.40</td>\n",
              "      <td>6.9</td>\n",
              "      <td>0.050</td>\n",
              "      <td>30.0</td>\n",
              "      <td>97.0</td>\n",
              "      <td>0.9951</td>\n",
              "      <td>3.26</td>\n",
              "      <td>0.44</td>\n",
              "      <td>10.1</td>\n",
              "      <td>6</td>\n",
              "    </tr>\n",
              "    <tr>\n",
              "      <th>3</th>\n",
              "      <td>7.2</td>\n",
              "      <td>0.23</td>\n",
              "      <td>0.32</td>\n",
              "      <td>8.5</td>\n",
              "      <td>0.058</td>\n",
              "      <td>47.0</td>\n",
              "      <td>186.0</td>\n",
              "      <td>0.9956</td>\n",
              "      <td>3.19</td>\n",
              "      <td>0.40</td>\n",
              "      <td>9.9</td>\n",
              "      <td>6</td>\n",
              "    </tr>\n",
              "    <tr>\n",
              "      <th>4</th>\n",
              "      <td>7.2</td>\n",
              "      <td>0.23</td>\n",
              "      <td>0.32</td>\n",
              "      <td>8.5</td>\n",
              "      <td>0.058</td>\n",
              "      <td>47.0</td>\n",
              "      <td>186.0</td>\n",
              "      <td>0.9956</td>\n",
              "      <td>3.19</td>\n",
              "      <td>0.40</td>\n",
              "      <td>9.9</td>\n",
              "      <td>6</td>\n",
              "    </tr>\n",
              "  </tbody>\n",
              "</table>\n",
              "</div>"
            ],
            "text/plain": [
              "   fixed acidity  volatile acidity  citric acid  ...  sulphates  alcohol  quality\n",
              "0            7.0              0.27         0.36  ...       0.45      8.8        6\n",
              "1            6.3              0.30         0.34  ...       0.49      9.5        6\n",
              "2            8.1              0.28         0.40  ...       0.44     10.1        6\n",
              "3            7.2              0.23         0.32  ...       0.40      9.9        6\n",
              "4            7.2              0.23         0.32  ...       0.40      9.9        6\n",
              "\n",
              "[5 rows x 12 columns]"
            ]
          },
          "metadata": {
            "tags": []
          },
          "execution_count": 152
        }
      ]
    },
    {
      "cell_type": "markdown",
      "metadata": {
        "colab_type": "text",
        "id": "LCn5wHtBd0O6"
      },
      "source": [
        "**Note:** Pandas is a very powerful python library for data processing. Learn more about it [here](https://pandas.pydata.org/docs/)."
      ]
    },
    {
      "cell_type": "markdown",
      "metadata": {
        "colab_type": "text",
        "id": "JH5BtyLseRir"
      },
      "source": [
        "### 3. Exploratory Data Analysis and Findings\n",
        "\n",
        "You have the data. Now let's try exploring it through visuals and summaries."
      ]
    },
    {
      "cell_type": "code",
      "metadata": {
        "colab_type": "code",
        "id": "B5r1V0rYd8Eg",
        "colab": {
          "base_uri": "https://localhost:8080/",
          "height": 340
        },
        "outputId": "9f46c3ee-b64e-49aa-b39b-aba384d1e988"
      },
      "source": [
        "df.info() #A glance at the columns, their datatypes and counts."
      ],
      "execution_count": 153,
      "outputs": [
        {
          "output_type": "stream",
          "text": [
            "<class 'pandas.core.frame.DataFrame'>\n",
            "RangeIndex: 4898 entries, 0 to 4897\n",
            "Data columns (total 12 columns):\n",
            " #   Column                Non-Null Count  Dtype  \n",
            "---  ------                --------------  -----  \n",
            " 0   fixed acidity         4898 non-null   float64\n",
            " 1   volatile acidity      4898 non-null   float64\n",
            " 2   citric acid           4898 non-null   float64\n",
            " 3   residual sugar        4898 non-null   float64\n",
            " 4   chlorides             4898 non-null   float64\n",
            " 5   free sulfur dioxide   4898 non-null   float64\n",
            " 6   total sulfur dioxide  4898 non-null   float64\n",
            " 7   density               4898 non-null   float64\n",
            " 8   pH                    4898 non-null   float64\n",
            " 9   sulphates             4898 non-null   float64\n",
            " 10  alcohol               4898 non-null   float64\n",
            " 11  quality               4898 non-null   int64  \n",
            "dtypes: float64(11), int64(1)\n",
            "memory usage: 459.3 KB\n"
          ],
          "name": "stdout"
        }
      ]
    },
    {
      "cell_type": "code",
      "metadata": {
        "colab_type": "code",
        "id": "koQUg9JxejaO",
        "colab": {
          "base_uri": "https://localhost:8080/",
          "height": 297
        },
        "outputId": "b353d694-64ad-4960-f41a-6703b0b2d765"
      },
      "source": [
        "df.describe() #Looking at summary statistics like mean, std. deviation, median and various percentiles."
      ],
      "execution_count": 154,
      "outputs": [
        {
          "output_type": "execute_result",
          "data": {
            "text/html": [
              "<div>\n",
              "<style scoped>\n",
              "    .dataframe tbody tr th:only-of-type {\n",
              "        vertical-align: middle;\n",
              "    }\n",
              "\n",
              "    .dataframe tbody tr th {\n",
              "        vertical-align: top;\n",
              "    }\n",
              "\n",
              "    .dataframe thead th {\n",
              "        text-align: right;\n",
              "    }\n",
              "</style>\n",
              "<table border=\"1\" class=\"dataframe\">\n",
              "  <thead>\n",
              "    <tr style=\"text-align: right;\">\n",
              "      <th></th>\n",
              "      <th>fixed acidity</th>\n",
              "      <th>volatile acidity</th>\n",
              "      <th>citric acid</th>\n",
              "      <th>residual sugar</th>\n",
              "      <th>chlorides</th>\n",
              "      <th>free sulfur dioxide</th>\n",
              "      <th>total sulfur dioxide</th>\n",
              "      <th>density</th>\n",
              "      <th>pH</th>\n",
              "      <th>sulphates</th>\n",
              "      <th>alcohol</th>\n",
              "      <th>quality</th>\n",
              "    </tr>\n",
              "  </thead>\n",
              "  <tbody>\n",
              "    <tr>\n",
              "      <th>count</th>\n",
              "      <td>4898.000000</td>\n",
              "      <td>4898.000000</td>\n",
              "      <td>4898.000000</td>\n",
              "      <td>4898.000000</td>\n",
              "      <td>4898.000000</td>\n",
              "      <td>4898.000000</td>\n",
              "      <td>4898.000000</td>\n",
              "      <td>4898.000000</td>\n",
              "      <td>4898.000000</td>\n",
              "      <td>4898.000000</td>\n",
              "      <td>4898.000000</td>\n",
              "      <td>4898.000000</td>\n",
              "    </tr>\n",
              "    <tr>\n",
              "      <th>mean</th>\n",
              "      <td>6.854788</td>\n",
              "      <td>0.278241</td>\n",
              "      <td>0.334192</td>\n",
              "      <td>6.391415</td>\n",
              "      <td>0.045772</td>\n",
              "      <td>35.308085</td>\n",
              "      <td>138.360657</td>\n",
              "      <td>0.994027</td>\n",
              "      <td>3.188267</td>\n",
              "      <td>0.489847</td>\n",
              "      <td>10.514267</td>\n",
              "      <td>5.877909</td>\n",
              "    </tr>\n",
              "    <tr>\n",
              "      <th>std</th>\n",
              "      <td>0.843868</td>\n",
              "      <td>0.100795</td>\n",
              "      <td>0.121020</td>\n",
              "      <td>5.072058</td>\n",
              "      <td>0.021848</td>\n",
              "      <td>17.007137</td>\n",
              "      <td>42.498065</td>\n",
              "      <td>0.002991</td>\n",
              "      <td>0.151001</td>\n",
              "      <td>0.114126</td>\n",
              "      <td>1.230621</td>\n",
              "      <td>0.885639</td>\n",
              "    </tr>\n",
              "    <tr>\n",
              "      <th>min</th>\n",
              "      <td>3.800000</td>\n",
              "      <td>0.080000</td>\n",
              "      <td>0.000000</td>\n",
              "      <td>0.600000</td>\n",
              "      <td>0.009000</td>\n",
              "      <td>2.000000</td>\n",
              "      <td>9.000000</td>\n",
              "      <td>0.987110</td>\n",
              "      <td>2.720000</td>\n",
              "      <td>0.220000</td>\n",
              "      <td>8.000000</td>\n",
              "      <td>3.000000</td>\n",
              "    </tr>\n",
              "    <tr>\n",
              "      <th>25%</th>\n",
              "      <td>6.300000</td>\n",
              "      <td>0.210000</td>\n",
              "      <td>0.270000</td>\n",
              "      <td>1.700000</td>\n",
              "      <td>0.036000</td>\n",
              "      <td>23.000000</td>\n",
              "      <td>108.000000</td>\n",
              "      <td>0.991723</td>\n",
              "      <td>3.090000</td>\n",
              "      <td>0.410000</td>\n",
              "      <td>9.500000</td>\n",
              "      <td>5.000000</td>\n",
              "    </tr>\n",
              "    <tr>\n",
              "      <th>50%</th>\n",
              "      <td>6.800000</td>\n",
              "      <td>0.260000</td>\n",
              "      <td>0.320000</td>\n",
              "      <td>5.200000</td>\n",
              "      <td>0.043000</td>\n",
              "      <td>34.000000</td>\n",
              "      <td>134.000000</td>\n",
              "      <td>0.993740</td>\n",
              "      <td>3.180000</td>\n",
              "      <td>0.470000</td>\n",
              "      <td>10.400000</td>\n",
              "      <td>6.000000</td>\n",
              "    </tr>\n",
              "    <tr>\n",
              "      <th>75%</th>\n",
              "      <td>7.300000</td>\n",
              "      <td>0.320000</td>\n",
              "      <td>0.390000</td>\n",
              "      <td>9.900000</td>\n",
              "      <td>0.050000</td>\n",
              "      <td>46.000000</td>\n",
              "      <td>167.000000</td>\n",
              "      <td>0.996100</td>\n",
              "      <td>3.280000</td>\n",
              "      <td>0.550000</td>\n",
              "      <td>11.400000</td>\n",
              "      <td>6.000000</td>\n",
              "    </tr>\n",
              "    <tr>\n",
              "      <th>max</th>\n",
              "      <td>14.200000</td>\n",
              "      <td>1.100000</td>\n",
              "      <td>1.660000</td>\n",
              "      <td>65.800000</td>\n",
              "      <td>0.346000</td>\n",
              "      <td>289.000000</td>\n",
              "      <td>440.000000</td>\n",
              "      <td>1.038980</td>\n",
              "      <td>3.820000</td>\n",
              "      <td>1.080000</td>\n",
              "      <td>14.200000</td>\n",
              "      <td>9.000000</td>\n",
              "    </tr>\n",
              "  </tbody>\n",
              "</table>\n",
              "</div>"
            ],
            "text/plain": [
              "       fixed acidity  volatile acidity  ...      alcohol      quality\n",
              "count    4898.000000       4898.000000  ...  4898.000000  4898.000000\n",
              "mean        6.854788          0.278241  ...    10.514267     5.877909\n",
              "std         0.843868          0.100795  ...     1.230621     0.885639\n",
              "min         3.800000          0.080000  ...     8.000000     3.000000\n",
              "25%         6.300000          0.210000  ...     9.500000     5.000000\n",
              "50%         6.800000          0.260000  ...    10.400000     6.000000\n",
              "75%         7.300000          0.320000  ...    11.400000     6.000000\n",
              "max        14.200000          1.100000  ...    14.200000     9.000000\n",
              "\n",
              "[8 rows x 12 columns]"
            ]
          },
          "metadata": {
            "tags": []
          },
          "execution_count": 154
        }
      ]
    },
    {
      "cell_type": "code",
      "metadata": {
        "colab_type": "code",
        "id": "MvbSL9rfe0ZL",
        "colab": {}
      },
      "source": [
        "#Importing libraries for data visualization\n",
        "import seaborn as sns\n",
        "import matplotlib.pyplot as plt"
      ],
      "execution_count": 155,
      "outputs": []
    },
    {
      "cell_type": "markdown",
      "metadata": {
        "colab_type": "text",
        "id": "2uZoXedpe_Ms"
      },
      "source": [
        "**Notes:** \n",
        "\n",
        "1. Seaborn is a Data Visualization library built to produce attractive data visualizations. You can learn more about it [here](https://seaborn.pydata.org/).\n",
        "\n",
        "2. Seaborn is built on top of matplotlib which is the OG Python plotting library. You can learn more about matplotlib [here](https://matplotlib.org/3.3.1/contents.html)."
      ]
    },
    {
      "cell_type": "code",
      "metadata": {
        "colab_type": "code",
        "id": "Mb98185vXzxy",
        "colab": {
          "base_uri": "https://localhost:8080/",
          "height": 818
        },
        "outputId": "69724c29-27b2-4b5e-d1b7-cbe3f563a4b0"
      },
      "source": [
        "#Plotting a bunch of histograms\n",
        "plt.figure(figsize = (20,20)) \n",
        "f, axes = plt.subplots(3, 4, figsize=(24, 12))#Setting a figure size\n",
        "i = 0\n",
        "j = 0\n",
        "for column in df.columns:\n",
        "  if j <=3 :\n",
        "    sns.distplot( df[column], ax=axes[i, j], kde = False)\n",
        "    j += 1\n",
        "  else:\n",
        "    i += 1\n",
        "    j = 0\n",
        "    sns.distplot( df[column], ax=axes[i, j], kde = False) \n",
        "    j += 1\n",
        "f.suptitle(\"Distribution of Wine Characteristics and Quality\")\n",
        "plt.show()"
      ],
      "execution_count": 156,
      "outputs": [
        {
          "output_type": "display_data",
          "data": {
            "text/plain": [
              "<Figure size 1440x1440 with 0 Axes>"
            ]
          },
          "metadata": {
            "tags": []
          }
        },
        {
          "output_type": "display_data",
          "data": {
            "image/png": "[encoded data removed]",
            "text/plain": [
              "<Figure size 1728x864 with 12 Axes>"
            ]
          },
          "metadata": {
            "tags": [],
            "needs_background": "light"
          }
        }
      ]
    },
    {
      "cell_type": "markdown",
      "metadata": {
        "colab_type": "text",
        "id": "p_IkzhJ3knmI"
      },
      "source": [
        "**Note:** Histograms are a great tool to understand the underlying distribution of your data, identify if the distribution is skewed, which will then help us decide on transformations we need to make before we train a model (if necessary). You can learn more about statistics and probability distributions through Khan Academy [here](https://www.khanacademy.org/math/statistics-probability/random-variables-stats-library)."
      ]
    },
    {
      "cell_type": "markdown",
      "metadata": {
        "colab_type": "text",
        "id": "KV_7hD8Fmpck"
      },
      "source": [
        "From the last chart above, it's clear that the quality score only ranges between 3 and 8 even though it's a 1-10 scale based on what the data dictionary associated with the dataset says. This makes sense because people rarely rate things 0/10 or 10/10, especially something as subjective as wine quality.\n",
        "\n",
        "So let's create a \"good\" and \"bad\" quality, where if the score is 7 or greater it's \"good\" and anything less is \"bad\"."
      ]
    },
    {
      "cell_type": "code",
      "metadata": {
        "colab_type": "code",
        "id": "yvLdO9rKnDtK",
        "colab": {
          "base_uri": "https://localhost:8080/",
          "height": 204
        },
        "outputId": "cfc1aa43-bca5-44db-c6fb-754797503ef5"
      },
      "source": [
        "df['quality_score'] = df['quality']\n",
        "df['quality'] = [\"good\" if x >= 7 else \"bad\" for x in df['quality_score']] \n",
        "df.head()"
      ],
      "execution_count": 157,
      "outputs": [
        {
          "output_type": "execute_result",
          "data": {
            "text/html": [
              "<div>\n",
              "<style scoped>\n",
              "    .dataframe tbody tr th:only-of-type {\n",
              "        vertical-align: middle;\n",
              "    }\n",
              "\n",
              "    .dataframe tbody tr th {\n",
              "        vertical-align: top;\n",
              "    }\n",
              "\n",
              "    .dataframe thead th {\n",
              "        text-align: right;\n",
              "    }\n",
              "</style>\n",
              "<table border=\"1\" class=\"dataframe\">\n",
              "  <thead>\n",
              "    <tr style=\"text-align: right;\">\n",
              "      <th></th>\n",
              "      <th>fixed acidity</th>\n",
              "      <th>volatile acidity</th>\n",
              "      <th>citric acid</th>\n",
              "      <th>residual sugar</th>\n",
              "      <th>chlorides</th>\n",
              "      <th>free sulfur dioxide</th>\n",
              "      <th>total sulfur dioxide</th>\n",
              "      <th>density</th>\n",
              "      <th>pH</th>\n",
              "      <th>sulphates</th>\n",
              "      <th>alcohol</th>\n",
              "      <th>quality</th>\n",
              "      <th>quality_score</th>\n",
              "    </tr>\n",
              "  </thead>\n",
              "  <tbody>\n",
              "    <tr>\n",
              "      <th>0</th>\n",
              "      <td>7.0</td>\n",
              "      <td>0.27</td>\n",
              "      <td>0.36</td>\n",
              "      <td>20.7</td>\n",
              "      <td>0.045</td>\n",
              "      <td>45.0</td>\n",
              "      <td>170.0</td>\n",
              "      <td>1.0010</td>\n",
              "      <td>3.00</td>\n",
              "      <td>0.45</td>\n",
              "      <td>8.8</td>\n",
              "      <td>bad</td>\n",
              "      <td>6</td>\n",
              "    </tr>\n",
              "    <tr>\n",
              "      <th>1</th>\n",
              "      <td>6.3</td>\n",
              "      <td>0.30</td>\n",
              "      <td>0.34</td>\n",
              "      <td>1.6</td>\n",
              "      <td>0.049</td>\n",
              "      <td>14.0</td>\n",
              "      <td>132.0</td>\n",
              "      <td>0.9940</td>\n",
              "      <td>3.30</td>\n",
              "      <td>0.49</td>\n",
              "      <td>9.5</td>\n",
              "      <td>bad</td>\n",
              "      <td>6</td>\n",
              "    </tr>\n",
              "    <tr>\n",
              "      <th>2</th>\n",
              "      <td>8.1</td>\n",
              "      <td>0.28</td>\n",
              "      <td>0.40</td>\n",
              "      <td>6.9</td>\n",
              "      <td>0.050</td>\n",
              "      <td>30.0</td>\n",
              "      <td>97.0</td>\n",
              "      <td>0.9951</td>\n",
              "      <td>3.26</td>\n",
              "      <td>0.44</td>\n",
              "      <td>10.1</td>\n",
              "      <td>bad</td>\n",
              "      <td>6</td>\n",
              "    </tr>\n",
              "    <tr>\n",
              "      <th>3</th>\n",
              "      <td>7.2</td>\n",
              "      <td>0.23</td>\n",
              "      <td>0.32</td>\n",
              "      <td>8.5</td>\n",
              "      <td>0.058</td>\n",
              "      <td>47.0</td>\n",
              "      <td>186.0</td>\n",
              "      <td>0.9956</td>\n",
              "      <td>3.19</td>\n",
              "      <td>0.40</td>\n",
              "      <td>9.9</td>\n",
              "      <td>bad</td>\n",
              "      <td>6</td>\n",
              "    </tr>\n",
              "    <tr>\n",
              "      <th>4</th>\n",
              "      <td>7.2</td>\n",
              "      <td>0.23</td>\n",
              "      <td>0.32</td>\n",
              "      <td>8.5</td>\n",
              "      <td>0.058</td>\n",
              "      <td>47.0</td>\n",
              "      <td>186.0</td>\n",
              "      <td>0.9956</td>\n",
              "      <td>3.19</td>\n",
              "      <td>0.40</td>\n",
              "      <td>9.9</td>\n",
              "      <td>bad</td>\n",
              "      <td>6</td>\n",
              "    </tr>\n",
              "  </tbody>\n",
              "</table>\n",
              "</div>"
            ],
            "text/plain": [
              "   fixed acidity  volatile acidity  citric acid  ...  alcohol  quality  quality_score\n",
              "0            7.0              0.27         0.36  ...      8.8      bad              6\n",
              "1            6.3              0.30         0.34  ...      9.5      bad              6\n",
              "2            8.1              0.28         0.40  ...     10.1      bad              6\n",
              "3            7.2              0.23         0.32  ...      9.9      bad              6\n",
              "4            7.2              0.23         0.32  ...      9.9      bad              6\n",
              "\n",
              "[5 rows x 13 columns]"
            ]
          },
          "metadata": {
            "tags": []
          },
          "execution_count": 157
        }
      ]
    },
    {
      "cell_type": "code",
      "metadata": {
        "colab_type": "code",
        "id": "M3H_GNKMnyoW",
        "colab": {
          "base_uri": "https://localhost:8080/",
          "height": 350
        },
        "outputId": "7208ad2c-1b73-4f9e-8f3c-53e4810ce382"
      },
      "source": [
        "plt.figure(figsize = (10,5))\n",
        "sns.countplot(df['quality'])\n",
        "plt.title(\"Count of Good and Bad Quality Wines in the Dataset\")\n",
        "plt.show()"
      ],
      "execution_count": 158,
      "outputs": [
        {
          "output_type": "display_data",
          "data": {
            "image/png": "[encoded data removed]",
            "text/plain": [
              "<Figure size 720x360 with 1 Axes>"
            ]
          },
          "metadata": {
            "tags": [],
            "needs_background": "light"
          }
        }
      ]
    },
    {
      "cell_type": "code",
      "metadata": {
        "colab_type": "code",
        "id": "T78ngeiEaAAh",
        "colab": {
          "base_uri": "https://localhost:8080/",
          "height": 801
        },
        "outputId": "c8ae1c84-b9c9-468a-8927-0f82dc940348"
      },
      "source": [
        "cols = list(df.columns)\n",
        "cols.remove('quality')\n",
        "#Plotting a bunch of bar charts to see how quality relates to different measures\n",
        "f, axes = plt.subplots(3, 4, figsize=(24, 12))#Setting a figure size\n",
        "i = 0\n",
        "j = 0\n",
        "for column in cols:\n",
        "  if j <=3 :\n",
        "    sns.barplot( x = 'quality', y = column, data = df, ax=axes[i, j])\n",
        "    j += 1\n",
        "  else:\n",
        "    i += 1\n",
        "    j = 0\n",
        "    sns.barplot( x = 'quality', y = column, data = df, ax=axes[i, j])\n",
        "    j += 1\n",
        "f.suptitle(\"Characteristics of Good and Bad Wines\")\n",
        "plt.show()"
      ],
      "execution_count": 159,
      "outputs": [
        {
          "output_type": "display_data",
          "data": {
            "image/png": "[encoded data removed]",
            "text/plain": [
              "<Figure size 1728x864 with 12 Axes>"
            ]
          },
          "metadata": {
            "tags": [],
            "needs_background": "light"
          }
        }
      ]
    },
    {
      "cell_type": "markdown",
      "metadata": {
        "colab_type": "text",
        "id": "5T7aCo_vq7bE"
      },
      "source": [
        "**Findings:**\n",
        "\n",
        "Good quality wines on average tend to lower acidity, lower residual sugar, lower chlorides, lower sulfur dioxide, higher sulphates, and higher alcohol."
      ]
    },
    {
      "cell_type": "markdown",
      "metadata": {
        "colab_type": "text",
        "id": "HGVmgFUuO1Xu"
      },
      "source": [
        "### 4. Model Training, Validation and Testing\n",
        "\n",
        "Before we get to the actual modeling, there are few concepts you need to learn.\n",
        "\n",
        "#### (i) Features and Labels\n",
        "\n",
        "In machine learning lingo, the outcome we want to predict is called the \"label\" and the characteritics/variables we use to predict the outcome are called \"features\".\n",
        "\n",
        "#### (ii). Feature Scaling (Pre-processing the data)\n",
        "\n",
        "Algorithms don't understand \"good\" and \"bad\" quality. To make them understand we have to encode the labels \"good\" and \"bad\" into labels that can be predicted. This is called encoding.\n",
        "\n",
        "The characteristics of the wines we're considering (features) take on values in various ranges. E.g. fixed acidity ranges from 4.6 to 16.9 whereas volatile acidity ranges from 2.7 to 4.0. To ensure all the features operate on the same scale (typically 0 to 1) we transform the features to all fall into the same scale. This is called feature scaling.\n"
      ]
    },
    {
      "cell_type": "markdown",
      "metadata": {
        "colab_type": "text",
        "id": "Q_i-DaTpcOhq"
      },
      "source": [
        "**Note**: you can learn more about the various encoding and scaling techniques [here](https://scikit-learn.org/stable/modules/preprocessing.html)"
      ]
    },
    {
      "cell_type": "markdown",
      "metadata": {
        "colab_type": "text",
        "id": "IocXTknjcIa9"
      },
      "source": [
        "\n",
        "#### (iii). Model errors\n",
        "\n",
        "Almost all models have errors, our goal while training the model is to reduce the errors. However, we also want the model to perform well on data it has never seen before. This character of models to be able to accurately make predictions on new/unseen data is called generalization.\n",
        "\n",
        "For example, we have ~4900 different types of wines and their associated characteristics in the wine quality dataset. If a new wine enters the market tomorrow, we want our model to be able to correctly predict the quality of that wine. \n",
        "\n",
        "But how do we measure generalization? To do this really well we need to understand the second concept:"
      ]
    },
    {
      "cell_type": "markdown",
      "metadata": {
        "colab_type": "text",
        "id": "I9rEtB0uYC2O"
      },
      "source": [
        "#### (iv). Bias - variance tradeoff\n",
        "\n",
        "Simply stated, a model's errors could be because the model is too simple (underfit) or too complex (overfit). When a model is underfit, we say there is more error due to bias, when a model is overfit, we say there is more error due to variance. Our goal during the modeling phase is to make sure that the model is neither underfitting nor overfitting.\n",
        "\n",
        "To make this happen, we split the data into training, validation, and test samples. We train our model only on the training data, never exposing it to the test data.  We measure the error on the test data, and validation data, compare it against the error we got in the training data and infer whether the model is overfitting, underfitting or just right.\n",
        "\n",
        "**Rule of thumb:** if training errors are high, the model is underfit. If training error is low, test error is high, the model is overfit.\n",
        "\n",
        "![img](https://miro.medium.com/max/700/1*CgIdnlB6JK8orFKPXpc7Rg.png)\n",
        "\n",
        "**Note:** The source of the image is this article [this article](http://scott.fortmann-roe.com/docs/BiasVariance.html) written by Scott Fortmann-Roe. It's a great resource to learn about Bias-Variance tradeoff."
      ]
    },
    {
      "cell_type": "markdown",
      "metadata": {
        "colab_type": "text",
        "id": "lGon2EcRn-hj"
      },
      "source": [
        "#### (v). Measurement of model errors\n",
        "\n",
        "(**Massive generalization and simplications incoming**, learn more about the types of Machine Learning algorithms [here](https://en.wikipedia.org/wiki/Machine_learning#Types_of_learning_algorithms)) \n",
        "\n",
        "The measurement of error will depend on the type of problem.Very broadly Machine Learning algorithms fall under two buckets: regression algorithms where you're predicting a continuous numeric variable as the label (e.g. tomorrow's temperature, price of a home, etc.) and classification algorithms where you're predicting discrete categorical variables as the label (e.g. wine quality, will it rain tomorrow, etc.).\n",
        "\n",
        "For regression problems, the the measure of error typically is called Root Mean Squared Error (or Mean Absolute Error), which is the square of the difference between the predicted value and the actual value (or the absolute value of the difference between the predicted value and actual value).\n",
        "\n",
        "For classification problems, the measures of error are given by three numbers:\n",
        "\n",
        "1. Precision\n",
        "2. Recall\n",
        "3. Accuracy\n",
        "\n",
        "To understand each of these, you need to understand the **confusion matrix**\n",
        "\n",
        "![](https://miro.medium.com/max/4420/1*btcfBuM5Eqqc6rJ3iw3sNQ.png)\n",
        "\n",
        "Source for the image is this [Medium post](https://medium.com/@alon.lek/should-i-look-at-precision-recall-or-specificity-sensitivity-3946158aace1) by [Alon Lekhtman](https://medium.com/@alon.lek).\n",
        "\n",
        "The article is also a good explanation for precision and recall.\n",
        "\n",
        "\n",
        "\n"
      ]
    },
    {
      "cell_type": "markdown",
      "metadata": {
        "colab_type": "text",
        "id": "xQ3_v5L8cfHt"
      },
      "source": [
        "**Note:** scikit-learn is a Python library that supports machine learning algorithms and the associated data processing techniques. You can learn more about scikit-learn [here](https://scikit-learn.org/stable/index.html)."
      ]
    },
    {
      "cell_type": "code",
      "metadata": {
        "colab_type": "code",
        "id": "8wfll88taLh3",
        "colab": {
          "base_uri": "https://localhost:8080/",
          "height": 204
        },
        "outputId": "92f3ca60-ac5b-44c4-ad0e-50d49a59ccb6"
      },
      "source": [
        "#First, encoding labels\n",
        "\n",
        "from sklearn.preprocessing import LabelEncoder\n",
        "\n",
        "label_encoder = LabelEncoder()\n",
        "df['quality'] = label_encoder.fit_transform(df['quality']) #\"bad\" becomes 0 \"good\" becomes 1\n",
        "\n",
        "df.head()\n"
      ],
      "execution_count": 160,
      "outputs": [
        {
          "output_type": "execute_result",
          "data": {
            "text/html": [
              "<div>\n",
              "<style scoped>\n",
              "    .dataframe tbody tr th:only-of-type {\n",
              "        vertical-align: middle;\n",
              "    }\n",
              "\n",
              "    .dataframe tbody tr th {\n",
              "        vertical-align: top;\n",
              "    }\n",
              "\n",
              "    .dataframe thead th {\n",
              "        text-align: right;\n",
              "    }\n",
              "</style>\n",
              "<table border=\"1\" class=\"dataframe\">\n",
              "  <thead>\n",
              "    <tr style=\"text-align: right;\">\n",
              "      <th></th>\n",
              "      <th>fixed acidity</th>\n",
              "      <th>volatile acidity</th>\n",
              "      <th>citric acid</th>\n",
              "      <th>residual sugar</th>\n",
              "      <th>chlorides</th>\n",
              "      <th>free sulfur dioxide</th>\n",
              "      <th>total sulfur dioxide</th>\n",
              "      <th>density</th>\n",
              "      <th>pH</th>\n",
              "      <th>sulphates</th>\n",
              "      <th>alcohol</th>\n",
              "      <th>quality</th>\n",
              "      <th>quality_score</th>\n",
              "    </tr>\n",
              "  </thead>\n",
              "  <tbody>\n",
              "    <tr>\n",
              "      <th>0</th>\n",
              "      <td>7.0</td>\n",
              "      <td>0.27</td>\n",
              "      <td>0.36</td>\n",
              "      <td>20.7</td>\n",
              "      <td>0.045</td>\n",
              "      <td>45.0</td>\n",
              "      <td>170.0</td>\n",
              "      <td>1.0010</td>\n",
              "      <td>3.00</td>\n",
              "      <td>0.45</td>\n",
              "      <td>8.8</td>\n",
              "      <td>0</td>\n",
              "      <td>6</td>\n",
              "    </tr>\n",
              "    <tr>\n",
              "      <th>1</th>\n",
              "      <td>6.3</td>\n",
              "      <td>0.30</td>\n",
              "      <td>0.34</td>\n",
              "      <td>1.6</td>\n",
              "      <td>0.049</td>\n",
              "      <td>14.0</td>\n",
              "      <td>132.0</td>\n",
              "      <td>0.9940</td>\n",
              "      <td>3.30</td>\n",
              "      <td>0.49</td>\n",
              "      <td>9.5</td>\n",
              "      <td>0</td>\n",
              "      <td>6</td>\n",
              "    </tr>\n",
              "    <tr>\n",
              "      <th>2</th>\n",
              "      <td>8.1</td>\n",
              "      <td>0.28</td>\n",
              "      <td>0.40</td>\n",
              "      <td>6.9</td>\n",
              "      <td>0.050</td>\n",
              "      <td>30.0</td>\n",
              "      <td>97.0</td>\n",
              "      <td>0.9951</td>\n",
              "      <td>3.26</td>\n",
              "      <td>0.44</td>\n",
              "      <td>10.1</td>\n",
              "      <td>0</td>\n",
              "      <td>6</td>\n",
              "    </tr>\n",
              "    <tr>\n",
              "      <th>3</th>\n",
              "      <td>7.2</td>\n",
              "      <td>0.23</td>\n",
              "      <td>0.32</td>\n",
              "      <td>8.5</td>\n",
              "      <td>0.058</td>\n",
              "      <td>47.0</td>\n",
              "      <td>186.0</td>\n",
              "      <td>0.9956</td>\n",
              "      <td>3.19</td>\n",
              "      <td>0.40</td>\n",
              "      <td>9.9</td>\n",
              "      <td>0</td>\n",
              "      <td>6</td>\n",
              "    </tr>\n",
              "    <tr>\n",
              "      <th>4</th>\n",
              "      <td>7.2</td>\n",
              "      <td>0.23</td>\n",
              "      <td>0.32</td>\n",
              "      <td>8.5</td>\n",
              "      <td>0.058</td>\n",
              "      <td>47.0</td>\n",
              "      <td>186.0</td>\n",
              "      <td>0.9956</td>\n",
              "      <td>3.19</td>\n",
              "      <td>0.40</td>\n",
              "      <td>9.9</td>\n",
              "      <td>0</td>\n",
              "      <td>6</td>\n",
              "    </tr>\n",
              "  </tbody>\n",
              "</table>\n",
              "</div>"
            ],
            "text/plain": [
              "   fixed acidity  volatile acidity  ...  quality  quality_score\n",
              "0            7.0              0.27  ...        0              6\n",
              "1            6.3              0.30  ...        0              6\n",
              "2            8.1              0.28  ...        0              6\n",
              "3            7.2              0.23  ...        0              6\n",
              "4            7.2              0.23  ...        0              6\n",
              "\n",
              "[5 rows x 13 columns]"
            ]
          },
          "metadata": {
            "tags": []
          },
          "execution_count": 160
        }
      ]
    },
    {
      "cell_type": "markdown",
      "metadata": {
        "colab_type": "text",
        "id": "BncpJdJ9eUVM"
      },
      "source": [
        "**Note:** In machine learning parlance, we often denote features with the matrix **X** and labels with the vector **y**"
      ]
    },
    {
      "cell_type": "code",
      "metadata": {
        "colab_type": "code",
        "id": "WOtrZKZbdlwS",
        "colab": {
          "base_uri": "https://localhost:8080/",
          "height": 34
        },
        "outputId": "072bbff8-a99f-4cac-d4c8-e29303ccf2d0"
      },
      "source": [
        "# Let's split the data into features and labels\n",
        "\n",
        "X = df.drop(['quality', 'quality_score'], axis = 1)\n",
        "y = df['quality']\n",
        "\n",
        "print(X.shape, y.shape)"
      ],
      "execution_count": 161,
      "outputs": [
        {
          "output_type": "stream",
          "text": [
            "(4898, 11) (4898,)\n"
          ],
          "name": "stdout"
        }
      ]
    },
    {
      "cell_type": "code",
      "metadata": {
        "colab_type": "code",
        "id": "7-q11soYe1dG",
        "colab": {
          "base_uri": "https://localhost:8080/",
          "height": 51
        },
        "outputId": "454634ed-aa3a-40ed-b5e2-d380ce3b9e8e"
      },
      "source": [
        "# Let's split the data into train and test samples\n",
        "\n",
        "from sklearn.model_selection import train_test_split\n",
        "\n",
        "#We are telling the function train_test_split imported from scikit-learn to split the data with 20% of the samples going to test data and 80% going to training data\n",
        "X_train, X_test, y_train, y_test = train_test_split(X, y, test_size = 0.2, random_state = 42)\n",
        "\n",
        "print(X_train.shape, y_train.shape)\n",
        "print(X_test.shape, y_test.shape)"
      ],
      "execution_count": 162,
      "outputs": [
        {
          "output_type": "stream",
          "text": [
            "(3918, 11) (3918,)\n",
            "(980, 11) (980,)\n"
          ],
          "name": "stdout"
        }
      ]
    },
    {
      "cell_type": "code",
      "metadata": {
        "colab_type": "code",
        "id": "y0LOLqCFfSCn",
        "colab": {}
      },
      "source": [
        "# Scaling the features\n",
        "from sklearn.preprocessing import StandardScaler\n",
        "std_scaler = StandardScaler()\n",
        "\n",
        "X_train = std_scaler.fit_transform(X_train)\n",
        "X_test = std_scaler.fit_transform(X_test)\n"
      ],
      "execution_count": 163,
      "outputs": []
    },
    {
      "cell_type": "markdown",
      "metadata": {
        "colab_type": "text",
        "id": "N1tnLVqxnpZ9"
      },
      "source": [
        "#### Let's try a simple classification model first"
      ]
    },
    {
      "cell_type": "code",
      "metadata": {
        "colab_type": "code",
        "id": "vM5nK0DyftQk",
        "colab": {
          "base_uri": "https://localhost:8080/",
          "height": 102
        },
        "outputId": "d69e5549-3fa0-42d4-be53-f682e7d5aaac"
      },
      "source": [
        "#Training the most basic classification model\n",
        "from sklearn.linear_model import LogisticRegression\n",
        "\n",
        "log_model = LogisticRegression()\n",
        "\n",
        "log_model.fit(X_train, y_train)"
      ],
      "execution_count": 164,
      "outputs": [
        {
          "output_type": "execute_result",
          "data": {
            "text/plain": [
              "LogisticRegression(C=1.0, class_weight=None, dual=False, fit_intercept=True,\n",
              "                   intercept_scaling=1, l1_ratio=None, max_iter=100,\n",
              "                   multi_class='auto', n_jobs=None, penalty='l2',\n",
              "                   random_state=None, solver='lbfgs', tol=0.0001, verbose=0,\n",
              "                   warm_start=False)"
            ]
          },
          "metadata": {
            "tags": []
          },
          "execution_count": 164
        }
      ]
    },
    {
      "cell_type": "markdown",
      "metadata": {
        "colab_type": "text",
        "id": "akTrYF5rmxdH"
      },
      "source": [
        "**Note:** Logistic regression is one of the most basic classification algorithms. You can learn more about it [here](https://en.wikipedia.org/wiki/Logistic_regression). You can learn more about the scikit-learn implementation of Logistic Regression in the documentation [here](https://scikit-learn.org/stable/modules/generated/sklearn.linear_model.LogisticRegression.html)."
      ]
    },
    {
      "cell_type": "markdown",
      "metadata": {
        "colab_type": "text",
        "id": "iFakoD8Lg8rT"
      },
      "source": [
        "#### **Note:** A callback to what I said a few minutes ago\n",
        "\n",
        "I mentioned training, validation, and testing, but only split the data into train and test. Luckily, scikit-learn gives us the ability to do validation by using a technique called cross-validation. In short, it works by holding a random sample out from the model while training and using the holdout to test the model on. You can learn more about cross-validation techniques [here](https://scikit-learn.org/stable/modules/cross_validation.html)."
      ]
    },
    {
      "cell_type": "code",
      "metadata": {
        "colab_type": "code",
        "id": "hUHeAGRnhhG_",
        "colab": {
          "base_uri": "https://localhost:8080/",
          "height": 204
        },
        "outputId": "3533fafc-c35a-4bd4-888e-15f7a5277ca4"
      },
      "source": [
        "#Training errors\n",
        "\n",
        "from sklearn.metrics import confusion_matrix, classification_report, precision_recall_fscore_support\n",
        "\n",
        "train_pred = log_model.predict(X_train)\n",
        "\n",
        "print(classification_report(y_train, train_pred))\n",
        "print(confusion_matrix(y_train, train_pred))"
      ],
      "execution_count": 165,
      "outputs": [
        {
          "output_type": "stream",
          "text": [
            "              precision    recall  f1-score   support\n",
            "\n",
            "           0       0.83      0.95      0.89      3085\n",
            "           1       0.60      0.27      0.37       833\n",
            "\n",
            "    accuracy                           0.81      3918\n",
            "   macro avg       0.71      0.61      0.63      3918\n",
            "weighted avg       0.78      0.81      0.78      3918\n",
            "\n",
            "[[2934  151]\n",
            " [ 609  224]]\n"
          ],
          "name": "stdout"
        }
      ]
    },
    {
      "cell_type": "code",
      "metadata": {
        "colab_type": "code",
        "id": "VPzC7NyIh_CR",
        "colab": {
          "base_uri": "https://localhost:8080/",
          "height": 34
        },
        "outputId": "1cfa74b6-ecc3-4717-c34c-6c185a912dbd"
      },
      "source": [
        "#Validation errors\n",
        "from sklearn.model_selection import cross_val_score\n",
        "val_err = cross_val_score(log_model, X = X_train, y = y_train, cv = 10)\n",
        "val_err.mean()"
      ],
      "execution_count": 166,
      "outputs": [
        {
          "output_type": "execute_result",
          "data": {
            "text/plain": [
              "0.8037234459000991"
            ]
          },
          "metadata": {
            "tags": []
          },
          "execution_count": 166
        }
      ]
    },
    {
      "cell_type": "code",
      "metadata": {
        "colab_type": "code",
        "id": "4BzfhKIeinDe",
        "colab": {
          "base_uri": "https://localhost:8080/",
          "height": 204
        },
        "outputId": "287d9d5f-e702-451a-c24d-c0ffd082d7e9"
      },
      "source": [
        "#Test errors\n",
        "\n",
        "test_pred = log_model.predict(X_test)\n",
        "\n",
        "print(classification_report(y_test, test_pred))\n",
        "print(confusion_matrix(y_test, test_pred))"
      ],
      "execution_count": 167,
      "outputs": [
        {
          "output_type": "stream",
          "text": [
            "              precision    recall  f1-score   support\n",
            "\n",
            "           0       0.81      0.94      0.87       753\n",
            "           1       0.57      0.28      0.38       227\n",
            "\n",
            "    accuracy                           0.78       980\n",
            "   macro avg       0.69      0.61      0.62       980\n",
            "weighted avg       0.76      0.78      0.76       980\n",
            "\n",
            "[[705  48]\n",
            " [163  64]]\n"
          ],
          "name": "stdout"
        }
      ]
    },
    {
      "cell_type": "markdown",
      "metadata": {
        "colab_type": "text",
        "id": "aTO34mRmnsr0"
      },
      "source": [
        "**Findings:**\n",
        "\n",
        "Even a basic classification model like logistic regression has a pretty good accuracy of 78% in the test data and 81% in the training data. It also indicates that the model is not over-fitting because the difference in training error, validation error, and test error are small.\n",
        "\n",
        "We can improve on the accuracy by training a more complicated model like Random Forest.\n"
      ]
    },
    {
      "cell_type": "markdown",
      "metadata": {
        "colab_type": "text",
        "id": "yfEEyL4msbq4"
      },
      "source": [
        "\n",
        "**WARNING:** The models like Random Forest belong to a class of models called \"Ensemble learners\" where they use a lot of weak learners which individually perform badly, but do well in aggregate. They are more complex, less explainable, and it's very easy to over-fit models using ensemble learners.\n",
        "\n",
        "**Note:** You can learn more about ensemble learners from these [lecture slides](http://people.csail.mit.edu/dsontag/courses/ml12/slides/lecture12.pdf) from MIT [Professor David Sontag](http://people.csail.mit.edu/dsontag/)."
      ]
    },
    {
      "cell_type": "code",
      "metadata": {
        "colab_type": "code",
        "id": "OPto7LrBsyXH",
        "colab": {
          "base_uri": "https://localhost:8080/",
          "height": 153
        },
        "outputId": "fc0a911d-44f7-48ee-bf0e-6a98981234db"
      },
      "source": [
        "#Training the most basic classification model\n",
        "from sklearn.ensemble import RandomForestClassifier\n",
        "\n",
        "rf = RandomForestClassifier()\n",
        "\n",
        "rf.fit(X_train, y_train)"
      ],
      "execution_count": 168,
      "outputs": [
        {
          "output_type": "execute_result",
          "data": {
            "text/plain": [
              "RandomForestClassifier(bootstrap=True, ccp_alpha=0.0, class_weight=None,\n",
              "                       criterion='gini', max_depth=None, max_features='auto',\n",
              "                       max_leaf_nodes=None, max_samples=None,\n",
              "                       min_impurity_decrease=0.0, min_impurity_split=None,\n",
              "                       min_samples_leaf=1, min_samples_split=2,\n",
              "                       min_weight_fraction_leaf=0.0, n_estimators=100,\n",
              "                       n_jobs=None, oob_score=False, random_state=None,\n",
              "                       verbose=0, warm_start=False)"
            ]
          },
          "metadata": {
            "tags": []
          },
          "execution_count": 168
        }
      ]
    },
    {
      "cell_type": "markdown",
      "metadata": {
        "colab_type": "text",
        "id": "QicYN4iNs7Sb"
      },
      "source": [
        "**Note:** There are a lot of things inside the two brackets next to RandomForestClassifier, for Machine Learning models, these are called hyper-parameters. We can set them to various numbers to improve the errors of the model during cross validation. That process is called hyper-parameter tuning. There are multiple methods to do it, you can learn more about it [here](https://scikit-learn.org/stable/modules/grid_search.html).\n",
        "\n"
      ]
    },
    {
      "cell_type": "code",
      "metadata": {
        "colab_type": "code",
        "id": "GQhNpZgds5gW",
        "colab": {
          "base_uri": "https://localhost:8080/",
          "height": 204
        },
        "outputId": "c2c21648-0a8d-4a75-e4ec-d5f5c3e18f04"
      },
      "source": [
        "#Training errors\n",
        "\n",
        "from sklearn.metrics import confusion_matrix, classification_report, precision_recall_fscore_support\n",
        "\n",
        "train_pred_rf = rf.predict(X_train)\n",
        "\n",
        "print(classification_report(y_train, train_pred_rf))\n",
        "print(confusion_matrix(y_train, train_pred_rf))"
      ],
      "execution_count": 169,
      "outputs": [
        {
          "output_type": "stream",
          "text": [
            "              precision    recall  f1-score   support\n",
            "\n",
            "           0       1.00      1.00      1.00      3085\n",
            "           1       1.00      1.00      1.00       833\n",
            "\n",
            "    accuracy                           1.00      3918\n",
            "   macro avg       1.00      1.00      1.00      3918\n",
            "weighted avg       1.00      1.00      1.00      3918\n",
            "\n",
            "[[3085    0]\n",
            " [   0  833]]\n"
          ],
          "name": "stdout"
        }
      ]
    },
    {
      "cell_type": "code",
      "metadata": {
        "colab_type": "code",
        "id": "1fxS0Tw2uA3i",
        "colab": {
          "base_uri": "https://localhost:8080/",
          "height": 34
        },
        "outputId": "85f4acf1-37fd-4681-e865-d5d2b22d3ab7"
      },
      "source": [
        "#Validation errors\n",
        "from sklearn.model_selection import cross_val_score\n",
        "val_err_rf = cross_val_score(rf, X = X_train, y = y_train, cv = 10)\n",
        "val_err_rf.mean()"
      ],
      "execution_count": 170,
      "outputs": [
        {
          "output_type": "execute_result",
          "data": {
            "text/plain": [
              "0.8756954955895402"
            ]
          },
          "metadata": {
            "tags": []
          },
          "execution_count": 170
        }
      ]
    },
    {
      "cell_type": "code",
      "metadata": {
        "colab_type": "code",
        "id": "9tvsmvGJuL-x",
        "colab": {
          "base_uri": "https://localhost:8080/",
          "height": 204
        },
        "outputId": "6cc94d74-a75d-4c2a-e68e-34562c9cc3ea"
      },
      "source": [
        "#Test errors\n",
        "\n",
        "test_pred_rf = rf.predict(X_test)\n",
        "\n",
        "print(classification_report(y_test, test_pred_rf))\n",
        "print(confusion_matrix(y_test, test_pred_rf))"
      ],
      "execution_count": 171,
      "outputs": [
        {
          "output_type": "stream",
          "text": [
            "              precision    recall  f1-score   support\n",
            "\n",
            "           0       0.89      0.97      0.92       753\n",
            "           1       0.84      0.59      0.69       227\n",
            "\n",
            "    accuracy                           0.88       980\n",
            "   macro avg       0.86      0.78      0.81       980\n",
            "weighted avg       0.88      0.88      0.87       980\n",
            "\n",
            "[[728  25]\n",
            " [ 94 133]]\n"
          ],
          "name": "stdout"
        }
      ]
    },
    {
      "cell_type": "markdown",
      "metadata": {
        "colab_type": "text",
        "id": "NMPtqn6AuQ2C"
      },
      "source": [
        "**Findings:**\n",
        "\n",
        "RandomForest gives us an accuracy of 86% in the validation and 88% in the test data, however, the training accuracy is 100% indicating that the model is over-fitting. We can correct this through hyper-parameter tuning."
      ]
    },
    {
      "cell_type": "markdown",
      "metadata": {
        "colab_type": "text",
        "id": "jlfW7t5KvPCM"
      },
      "source": [
        "**Note:** To do real justice to hyper-parameter tuning I will have to spend another hour to go over the meanings of these parameters, the idea behind weak lerners and how they get ensembled, etc. The learning resources I will link at the end of the class will go over this in more detail."
      ]
    },
    {
      "cell_type": "markdown",
      "metadata": {
        "colab_type": "text",
        "id": "kkMf_PnAx3nJ"
      },
      "source": [
        "#### Receiver Operating Characteristic (ROC) Curve\n",
        "\n",
        "As mentioned before, Precision and Recall are two different types of accuracy. Recall is the same as true positive rate. There is yet another measure of accuracy called \"Specificity\" (or True Negative Rate). 1-Specificity is False positive rate. The ROC curve shows the ability of a model to strike a balance between True Positive Rate and False Positive Rate at various model thresholds. A good classification model should have the ROC corve going up into the right and a numerical summary of the \"goodness\" of the ROC curve is called AUC (or AUROC, or Area Under Receiver Operating Characteristic curve). The closer this number is to 1 (or 100%) the better a binary classification model is.\n",
        "\n",
        "Let's compare the ROC curves and AUC for both logistic regression and Random forest."
      ]
    },
    {
      "cell_type": "code",
      "metadata": {
        "colab_type": "code",
        "id": "UBsDTgubwqFf",
        "colab": {
          "base_uri": "https://localhost:8080/",
          "height": 431
        },
        "outputId": "d58afa45-746f-4ce7-afba-6f5adfe96feb"
      },
      "source": [
        "from sklearn.metrics import plot_roc_curve\n",
        "logistic_disp = plot_roc_curve(log_model, X_test, y_test)\n",
        "rfc_disp = plot_roc_curve(rf, X_test, y_test, ax=logistic_disp.ax_)\n",
        "rfc_disp.figure_.suptitle(\"ROC curve comparison\")\n",
        "rfc_disp.figure_.set_size_inches(10,6)\n",
        "plt.show()"
      ],
      "execution_count": 172,
      "outputs": [
        {
          "output_type": "display_data",
          "data": {
            "image/png": "[encoded data removed]",
            "text/plain": [
              "<Figure size 720x432 with 1 Axes>"
            ]
          },
          "metadata": {
            "tags": [],
            "needs_background": "light"
          }
        }
      ]
    },
    {
      "cell_type": "markdown",
      "metadata": {
        "colab_type": "text",
        "id": "pN4YgNoB0OQz"
      },
      "source": [
        "**Note:** You can learn more about ROC Curve [here](https://en.wikipedia.org/wiki/Receiver_operating_characteristic)."
      ]
    },
    {
      "cell_type": "markdown",
      "metadata": {
        "colab_type": "text",
        "id": "BoJEMYvm0anx"
      },
      "source": [
        "### Resources to Continue Your Learning Journey\n",
        "\n",
        "#### **1. Fundamentals:**\n",
        "\n",
        "Under the hood, Machine Learning models, use a lot of Statistics, Mathematics (primarily Linear Algebra and Calculus), and Computer Science Algorithms.\n",
        "\n",
        "**Statistics:**\n",
        "\n",
        "* [StatQuest](https://www.youtube.com/channel/UCtYLUTtgS3k1Fg4y5tAhLbw) is a YouTube channel that covers a lot of the stats fundamentals.\n",
        "\n",
        "* Khan Academy has an entire series on [Probability and Statistics]((https://www.khanacademy.org/math/statistics-probability)).\n",
        "\n",
        "* MIT OpenCourseWare also has a class on [Probability and Statistics]((https://ocw.mit.edu/courses/mathematics/18-05-introduction-to-probability-and-statistics-spring-2014/)).\n",
        "\n",
        "* For those of you who prefer textbooks to learn from Open Textbook Library project has a few introductory statistics [textbooks](https://open.umn.edu/opentextbooks/textbooks/introduction-to-statistics).\n",
        "\n",
        "**Linear Algebra:**\n",
        "\n",
        "* Khan Academy again has a series on [Linear Algebra]((https://www.khanacademy.org/math/linear-algebra)).\n",
        "\n",
        "* MIT OpenCourseWare also has a class on [Linear Algebra]((https://ocw.mit.edu/courses/mathematics/18-06-linear-algebra-spring-2010/)).\n",
        "\n",
        "**Algorithms:**\n",
        "\n",
        "* Khan Academy has a series on [Algorithms](https://www.khanacademy.org/computing/computer-science/algorithms).\n",
        "\n",
        "* MIT OpenCourseWare has a class titled [Intro to Algorithms](https://ocw.mit.edu/courses/electrical-engineering-and-computer-science/6-006-introduction-to-algorithms-spring-2008/).\n",
        "\n",
        "* MIT OpenCourseWare has another class title [Intro to Computational Thinking and Data Science](https://ocw.mit.edu/courses/electrical-engineering-and-computer-science/6-0002-introduction-to-computational-thinking-and-data-science-fall-2016/index.htm).\n",
        "\n",
        "#### **2. Practical Machine Learning:**\n",
        "\n",
        "**Online Courses:**\n",
        "\n",
        "* Machine Learning by Prof. Andrew Ng. on [Coursera](https://www.coursera.org/learn/machine-learning)\n",
        "\n",
        "* Machine Learning Crash Course from [Google](https://developers.google.com/machine-learning/crash-course/ml-intro)\n",
        "\n",
        "* Machine Learning on [AWS](https://aws.amazon.com/training/learning-paths/machine-learning/)\n",
        "\n",
        "* AI School from [Microsoft](https://aischool.microsoft.com/en-us/machine-learning/learning-paths)\n",
        "\n",
        "**Textbooks:**\n",
        "\n",
        "* [Elements of Statistical Learning](https://web.stanford.edu/~hastie/Papers/ESLII.pdf) is the qunitessential ML textbook.\n",
        "\n",
        "* Another very good textbook is [Hands-On Machine Learning with Scikit-Learn, Keras, and TensorFlow](https://www.oreilly.com/library/view/hands-on-machine-learning/9781492032632/) by Aurélien Géron. The texbook itsels is not free, but the associated [GitHub repo](https://github.com/ageron/handson-ml) is free to access for code samples."
      ]
    }
  ]
}